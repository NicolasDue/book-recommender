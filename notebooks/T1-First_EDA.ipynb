{
 "cells": [
  {
   "cell_type": "markdown",
   "metadata": {},
   "source": [
    "# Books Data"
   ]
  },
  {
   "cell_type": "code",
   "execution_count": 2,
   "metadata": {},
   "outputs": [],
   "source": [
    "import pandas as pd\n",
    "\n",
    "books_data = pd.read_csv(\"../data/raw/books_data.csv\")"
   ]
  },
  {
   "cell_type": "code",
   "execution_count": 10,
   "metadata": {},
   "outputs": [
    {
     "name": "stdout",
     "output_type": "stream",
     "text": [
      "<class 'pandas.core.frame.DataFrame'>\n",
      "RangeIndex: 212404 entries, 0 to 212403\n",
      "Data columns (total 10 columns):\n",
      " #   Column         Non-Null Count   Dtype  \n",
      "---  ------         --------------   -----  \n",
      " 0   Title          212403 non-null  object \n",
      " 1   description    143962 non-null  object \n",
      " 2   authors        180991 non-null  object \n",
      " 3   image          160329 non-null  object \n",
      " 4   previewLink    188568 non-null  object \n",
      " 5   publisher      136518 non-null  object \n",
      " 6   publishedDate  187099 non-null  object \n",
      " 7   infoLink       188568 non-null  object \n",
      " 8   categories     171205 non-null  object \n",
      " 9   ratingsCount   49752 non-null   float64\n",
      "dtypes: float64(1), object(9)\n",
      "memory usage: 16.2+ MB\n"
     ]
    }
   ],
   "source": [
    "books_data.info(verbose=True, memory_usage=True, show_counts=True)"
   ]
  },
  {
   "cell_type": "code",
   "execution_count": 5,
   "metadata": {},
   "outputs": [
    {
     "data": {
      "text/html": [
       "<div>\n",
       "<style scoped>\n",
       "    .dataframe tbody tr th:only-of-type {\n",
       "        vertical-align: middle;\n",
       "    }\n",
       "\n",
       "    .dataframe tbody tr th {\n",
       "        vertical-align: top;\n",
       "    }\n",
       "\n",
       "    .dataframe thead th {\n",
       "        text-align: right;\n",
       "    }\n",
       "</style>\n",
       "<table border=\"1\" class=\"dataframe\">\n",
       "  <thead>\n",
       "    <tr style=\"text-align: right;\">\n",
       "      <th></th>\n",
       "      <th>Title</th>\n",
       "      <th>description</th>\n",
       "      <th>authors</th>\n",
       "      <th>image</th>\n",
       "      <th>previewLink</th>\n",
       "      <th>publisher</th>\n",
       "      <th>publishedDate</th>\n",
       "      <th>infoLink</th>\n",
       "      <th>categories</th>\n",
       "      <th>ratingsCount</th>\n",
       "    </tr>\n",
       "  </thead>\n",
       "  <tbody>\n",
       "    <tr>\n",
       "      <th>148670</th>\n",
       "      <td>True to life: Real stories of changed hearts a...</td>\n",
       "      <td>NaN</td>\n",
       "      <td>['Janet L. Folger']</td>\n",
       "      <td>NaN</td>\n",
       "      <td>http://books.google.com/books?id=ckKAvAEACAAJ&amp;...</td>\n",
       "      <td>NaN</td>\n",
       "      <td>2000</td>\n",
       "      <td>http://books.google.com/books?id=ckKAvAEACAAJ&amp;...</td>\n",
       "      <td>['Abortion']</td>\n",
       "      <td>NaN</td>\n",
       "    </tr>\n",
       "    <tr>\n",
       "      <th>116740</th>\n",
       "      <td>Desert Heat</td>\n",
       "      <td>A cop lies dying beneath the blistering Arizon...</td>\n",
       "      <td>['J. A. Jance']</td>\n",
       "      <td>http://books.google.com/books/content?id=SijVl...</td>\n",
       "      <td>http://books.google.nl/books?id=SijVlwEACAAJ&amp;d...</td>\n",
       "      <td>Harper</td>\n",
       "      <td>2009-06-30</td>\n",
       "      <td>http://books.google.nl/books?id=SijVlwEACAAJ&amp;d...</td>\n",
       "      <td>['Fiction']</td>\n",
       "      <td>NaN</td>\n",
       "    </tr>\n",
       "    <tr>\n",
       "      <th>112757</th>\n",
       "      <td>The Lena Baker Story</td>\n",
       "      <td>\"This is the story of the first and only woman...</td>\n",
       "      <td>['Lela Bond Phillips']</td>\n",
       "      <td>http://books.google.com/books/content?id=NEUBA...</td>\n",
       "      <td>http://books.google.nl/books?id=NEUBAAAACAAJ&amp;d...</td>\n",
       "      <td>Wings Pub Llc</td>\n",
       "      <td>2001</td>\n",
       "      <td>http://books.google.nl/books?id=NEUBAAAACAAJ&amp;d...</td>\n",
       "      <td>['Biography &amp; Autobiography']</td>\n",
       "      <td>NaN</td>\n",
       "    </tr>\n",
       "  </tbody>\n",
       "</table>\n",
       "</div>"
      ],
      "text/plain": [
       "                                                    Title  \\\n",
       "148670  True to life: Real stories of changed hearts a...   \n",
       "116740                                        Desert Heat   \n",
       "112757                               The Lena Baker Story   \n",
       "\n",
       "                                              description  \\\n",
       "148670                                                NaN   \n",
       "116740  A cop lies dying beneath the blistering Arizon...   \n",
       "112757  \"This is the story of the first and only woman...   \n",
       "\n",
       "                       authors  \\\n",
       "148670     ['Janet L. Folger']   \n",
       "116740         ['J. A. Jance']   \n",
       "112757  ['Lela Bond Phillips']   \n",
       "\n",
       "                                                    image  \\\n",
       "148670                                                NaN   \n",
       "116740  http://books.google.com/books/content?id=SijVl...   \n",
       "112757  http://books.google.com/books/content?id=NEUBA...   \n",
       "\n",
       "                                              previewLink      publisher  \\\n",
       "148670  http://books.google.com/books?id=ckKAvAEACAAJ&...            NaN   \n",
       "116740  http://books.google.nl/books?id=SijVlwEACAAJ&d...         Harper   \n",
       "112757  http://books.google.nl/books?id=NEUBAAAACAAJ&d...  Wings Pub Llc   \n",
       "\n",
       "       publishedDate                                           infoLink  \\\n",
       "148670          2000  http://books.google.com/books?id=ckKAvAEACAAJ&...   \n",
       "116740    2009-06-30  http://books.google.nl/books?id=SijVlwEACAAJ&d...   \n",
       "112757          2001  http://books.google.nl/books?id=NEUBAAAACAAJ&d...   \n",
       "\n",
       "                           categories  ratingsCount  \n",
       "148670                   ['Abortion']           NaN  \n",
       "116740                    ['Fiction']           NaN  \n",
       "112757  ['Biography & Autobiography']           NaN  "
      ]
     },
     "execution_count": 5,
     "metadata": {},
     "output_type": "execute_result"
    }
   ],
   "source": [
    "books_data.sample(3)"
   ]
  },
  {
   "cell_type": "code",
   "execution_count": 6,
   "metadata": {},
   "outputs": [
    {
     "data": {
      "text/html": [
       "<div>\n",
       "<style scoped>\n",
       "    .dataframe tbody tr th:only-of-type {\n",
       "        vertical-align: middle;\n",
       "    }\n",
       "\n",
       "    .dataframe tbody tr th {\n",
       "        vertical-align: top;\n",
       "    }\n",
       "\n",
       "    .dataframe thead th {\n",
       "        text-align: right;\n",
       "    }\n",
       "</style>\n",
       "<table border=\"1\" class=\"dataframe\">\n",
       "  <thead>\n",
       "    <tr style=\"text-align: right;\">\n",
       "      <th></th>\n",
       "      <th>Title</th>\n",
       "      <th>description</th>\n",
       "      <th>authors</th>\n",
       "      <th>image</th>\n",
       "      <th>previewLink</th>\n",
       "      <th>publisher</th>\n",
       "      <th>publishedDate</th>\n",
       "      <th>infoLink</th>\n",
       "      <th>categories</th>\n",
       "      <th>ratingsCount</th>\n",
       "    </tr>\n",
       "  </thead>\n",
       "  <tbody>\n",
       "    <tr>\n",
       "      <th>0</th>\n",
       "      <td>Its Only Art If Its Well Hung!</td>\n",
       "      <td>NaN</td>\n",
       "      <td>['Julie Strain']</td>\n",
       "      <td>http://books.google.com/books/content?id=DykPA...</td>\n",
       "      <td>http://books.google.nl/books?id=DykPAAAACAAJ&amp;d...</td>\n",
       "      <td>NaN</td>\n",
       "      <td>1996</td>\n",
       "      <td>http://books.google.nl/books?id=DykPAAAACAAJ&amp;d...</td>\n",
       "      <td>['Comics &amp; Graphic Novels']</td>\n",
       "      <td>NaN</td>\n",
       "    </tr>\n",
       "    <tr>\n",
       "      <th>1</th>\n",
       "      <td>Dr. Seuss: American Icon</td>\n",
       "      <td>Philip Nel takes a fascinating look into the k...</td>\n",
       "      <td>['Philip Nel']</td>\n",
       "      <td>http://books.google.com/books/content?id=IjvHQ...</td>\n",
       "      <td>http://books.google.nl/books?id=IjvHQsCn_pgC&amp;p...</td>\n",
       "      <td>A&amp;C Black</td>\n",
       "      <td>2005-01-01</td>\n",
       "      <td>http://books.google.nl/books?id=IjvHQsCn_pgC&amp;d...</td>\n",
       "      <td>['Biography &amp; Autobiography']</td>\n",
       "      <td>NaN</td>\n",
       "    </tr>\n",
       "    <tr>\n",
       "      <th>2</th>\n",
       "      <td>Wonderful Worship in Smaller Churches</td>\n",
       "      <td>This resource includes twelve principles in un...</td>\n",
       "      <td>['David R. Ray']</td>\n",
       "      <td>http://books.google.com/books/content?id=2tsDA...</td>\n",
       "      <td>http://books.google.nl/books?id=2tsDAAAACAAJ&amp;d...</td>\n",
       "      <td>NaN</td>\n",
       "      <td>2000</td>\n",
       "      <td>http://books.google.nl/books?id=2tsDAAAACAAJ&amp;d...</td>\n",
       "      <td>['Religion']</td>\n",
       "      <td>NaN</td>\n",
       "    </tr>\n",
       "  </tbody>\n",
       "</table>\n",
       "</div>"
      ],
      "text/plain": [
       "                                   Title  \\\n",
       "0         Its Only Art If Its Well Hung!   \n",
       "1               Dr. Seuss: American Icon   \n",
       "2  Wonderful Worship in Smaller Churches   \n",
       "\n",
       "                                         description           authors  \\\n",
       "0                                                NaN  ['Julie Strain']   \n",
       "1  Philip Nel takes a fascinating look into the k...    ['Philip Nel']   \n",
       "2  This resource includes twelve principles in un...  ['David R. Ray']   \n",
       "\n",
       "                                               image  \\\n",
       "0  http://books.google.com/books/content?id=DykPA...   \n",
       "1  http://books.google.com/books/content?id=IjvHQ...   \n",
       "2  http://books.google.com/books/content?id=2tsDA...   \n",
       "\n",
       "                                         previewLink  publisher publishedDate  \\\n",
       "0  http://books.google.nl/books?id=DykPAAAACAAJ&d...        NaN          1996   \n",
       "1  http://books.google.nl/books?id=IjvHQsCn_pgC&p...  A&C Black    2005-01-01   \n",
       "2  http://books.google.nl/books?id=2tsDAAAACAAJ&d...        NaN          2000   \n",
       "\n",
       "                                            infoLink  \\\n",
       "0  http://books.google.nl/books?id=DykPAAAACAAJ&d...   \n",
       "1  http://books.google.nl/books?id=IjvHQsCn_pgC&d...   \n",
       "2  http://books.google.nl/books?id=2tsDAAAACAAJ&d...   \n",
       "\n",
       "                      categories  ratingsCount  \n",
       "0    ['Comics & Graphic Novels']           NaN  \n",
       "1  ['Biography & Autobiography']           NaN  \n",
       "2                   ['Religion']           NaN  "
      ]
     },
     "execution_count": 6,
     "metadata": {},
     "output_type": "execute_result"
    }
   ],
   "source": [
    "books_data.head(3)"
   ]
  },
  {
   "cell_type": "code",
   "execution_count": 45,
   "metadata": {},
   "outputs": [],
   "source": [
    "import seaborn as sns\n",
    "sns.set_theme()"
   ]
  },
  {
   "cell_type": "code",
   "execution_count": 50,
   "metadata": {},
   "outputs": [],
   "source": [
    "def generate_null_viz(df):\n",
    "    null_percentages = (df.isna().sum() / df.shape[0] * 100).reset_index()\n",
    "    null_percentages.columns = [\"column\", \"null%\"]\n",
    "    ax = sns.barplot(\n",
    "        data=null_percentages,\n",
    "        y=\"column\",\n",
    "        x=\"null%\",\n",
    "    )\n",
    "    ax.set(xlim=(0, 100))\n",
    "    print(null_percentages)"
   ]
  },
  {
   "cell_type": "code",
   "execution_count": 51,
   "metadata": {},
   "outputs": [
    {
     "name": "stdout",
     "output_type": "stream",
     "text": [
      "          column      null%\n",
      "0          Title   0.000471\n",
      "1    description  32.222557\n",
      "2        authors  14.789270\n",
      "3          image  24.516958\n",
      "4    previewLink  11.222011\n",
      "5      publisher  35.727199\n",
      "6  publishedDate  11.913617\n",
      "7       infoLink  11.222011\n",
      "8     categories  19.396527\n",
      "9   ratingsCount  76.576712\n"
     ]
    },
    {
     "data": {
      "image/png": "[encoded data removed]",
      "text/plain": [
       "<Figure size 640x480 with 1 Axes>"
      ]
     },
     "metadata": {},
     "output_type": "display_data"
    }
   ],
   "source": [
    "generate_null_viz(books_data)"
   ]
  },
  {
   "cell_type": "markdown",
   "metadata": {},
   "source": [
    "## Title"
   ]
  },
  {
   "cell_type": "markdown",
   "metadata": {},
   "source": [
    "Only one book without Title"
   ]
  },
  {
   "cell_type": "code",
   "execution_count": 18,
   "metadata": {},
   "outputs": [
    {
     "data": {
      "text/html": [
       "<div>\n",
       "<style scoped>\n",
       "    .dataframe tbody tr th:only-of-type {\n",
       "        vertical-align: middle;\n",
       "    }\n",
       "\n",
       "    .dataframe tbody tr th {\n",
       "        vertical-align: top;\n",
       "    }\n",
       "\n",
       "    .dataframe thead th {\n",
       "        text-align: right;\n",
       "    }\n",
       "</style>\n",
       "<table border=\"1\" class=\"dataframe\">\n",
       "  <thead>\n",
       "    <tr style=\"text-align: right;\">\n",
       "      <th></th>\n",
       "      <th>Title</th>\n",
       "      <th>description</th>\n",
       "      <th>authors</th>\n",
       "      <th>image</th>\n",
       "      <th>previewLink</th>\n",
       "      <th>publisher</th>\n",
       "      <th>publishedDate</th>\n",
       "      <th>infoLink</th>\n",
       "      <th>categories</th>\n",
       "      <th>ratingsCount</th>\n",
       "    </tr>\n",
       "  </thead>\n",
       "  <tbody>\n",
       "    <tr>\n",
       "      <th>1066</th>\n",
       "      <td>NaN</td>\n",
       "      <td>NaN</td>\n",
       "      <td>['Maharshi Ramana']</td>\n",
       "      <td>http://books.google.com/books/content?id=uq0uj...</td>\n",
       "      <td>http://books.google.nl/books?id=uq0ujwEACAAJ&amp;d...</td>\n",
       "      <td>NaN</td>\n",
       "      <td>2015-12-15</td>\n",
       "      <td>http://books.google.nl/books?id=uq0ujwEACAAJ&amp;d...</td>\n",
       "      <td>NaN</td>\n",
       "      <td>1.0</td>\n",
       "    </tr>\n",
       "  </tbody>\n",
       "</table>\n",
       "</div>"
      ],
      "text/plain": [
       "     Title description              authors  \\\n",
       "1066   NaN         NaN  ['Maharshi Ramana']   \n",
       "\n",
       "                                                  image  \\\n",
       "1066  http://books.google.com/books/content?id=uq0uj...   \n",
       "\n",
       "                                            previewLink publisher  \\\n",
       "1066  http://books.google.nl/books?id=uq0ujwEACAAJ&d...       NaN   \n",
       "\n",
       "     publishedDate                                           infoLink  \\\n",
       "1066    2015-12-15  http://books.google.nl/books?id=uq0ujwEACAAJ&d...   \n",
       "\n",
       "     categories  ratingsCount  \n",
       "1066        NaN           1.0  "
      ]
     },
     "execution_count": 18,
     "metadata": {},
     "output_type": "execute_result"
    }
   ],
   "source": [
    "books_data[books_data.Title.isna()]"
   ]
  },
  {
   "cell_type": "markdown",
   "metadata": {},
   "source": [
    "## Missing Descriptions"
   ]
  },
  {
   "cell_type": "markdown",
   "metadata": {},
   "source": [
    "Description has 32% of missing values. This is column is very important because the project aims at building a hybrid recommender system and this field has the richest natural language data about an item. If we are going to judge a book by its cover, we should at least read the description."
   ]
  },
  {
   "cell_type": "code",
   "execution_count": 63,
   "metadata": {},
   "outputs": [
    {
     "name": "stdout",
     "output_type": "stream",
     "text": [
      "          column       null%\n",
      "0          Title    0.001461\n",
      "1    description  100.000000\n",
      "2        authors   42.672628\n",
      "3          image   65.851378\n",
      "4    previewLink   34.826568\n",
      "5      publisher   83.425382\n",
      "6  publishedDate   36.365097\n",
      "7       infoLink   34.826568\n",
      "8     categories   51.320826\n",
      "9   ratingsCount   93.242453\n"
     ]
    },
    {
     "data": {
      "image/png": "[encoded data removed]",
      "text/plain": [
       "<Figure size 640x480 with 1 Axes>"
      ]
     },
     "metadata": {},
     "output_type": "display_data"
    }
   ],
   "source": [
    "generate_null_viz(books_data[books_data.description.isna()])"
   ]
  },
  {
   "cell_type": "markdown",
   "metadata": {},
   "source": [
    "34% out of those items with a missing description also lack a infoLink that could be used to webscrap a description in some way."
   ]
  },
  {
   "cell_type": "markdown",
   "metadata": {},
   "source": [
    "## Authors"
   ]
  },
  {
   "cell_type": "code",
   "execution_count": 77,
   "metadata": {},
   "outputs": [],
   "source": [
    "import ast\n",
    "\n",
    "author_count = books_data.authors.fillna(\"[]\").apply(ast.literal_eval).explode().value_counts()"
   ]
  },
  {
   "cell_type": "code",
   "execution_count": 82,
   "metadata": {},
   "outputs": [
    {
     "data": {
      "text/plain": [
       "authors\n",
       "Rose Arny                                236\n",
       "William Shakespeare                      228\n",
       "Library of Congress. Copyright Office    178\n",
       "Agatha Christie                          148\n",
       "Erle Stanley Gardner                     128\n",
       "Louis L'Amour                            125\n",
       "Charles Dickens                          108\n",
       "Isaac Asimov                              96\n",
       "Mark Twain                                90\n",
       "Edgar Rice Burroughs                      89\n",
       "Rudyard Kipling                           86\n",
       "Francine Pascal                           84\n",
       "Various                                   78\n",
       "Library of Congress                       77\n",
       "Zane Grey                                 76\n",
       "Name: count, dtype: int64"
      ]
     },
     "execution_count": 82,
     "metadata": {},
     "output_type": "execute_result"
    }
   ],
   "source": [
    "author_count.head(15)"
   ]
  },
  {
   "cell_type": "markdown",
   "metadata": {},
   "source": [
    "We find that a Power Law probably exists in regards to how many books an author has"
   ]
  },
  {
   "cell_type": "code",
   "execution_count": 80,
   "metadata": {},
   "outputs": [
    {
     "data": {
      "text/plain": [
       "<Axes: ylabel='authors'>"
      ]
     },
     "execution_count": 80,
     "metadata": {},
     "output_type": "execute_result"
    },
    {
     "data": {
      "image/png": "[encoded data removed]",
      "text/plain": [
       "<Figure size 640x480 with 1 Axes>"
      ]
     },
     "metadata": {},
     "output_type": "display_data"
    }
   ],
   "source": [
    "sns.barplot(\n",
    "    x=author_count.head(15).values,\n",
    "    y=author_count.head(15).index,\n",
    ")"
   ]
  },
  {
   "cell_type": "markdown",
   "metadata": {},
   "source": [
    "We can also notice that the authors with more publications are usually regarded as very popular. It makes sense, as a very popular author has a great chance of having their books published many times with different editions and publishers, even posthumously."
   ]
  },
  {
   "cell_type": "code",
   "execution_count": 86,
   "metadata": {},
   "outputs": [
    {
     "data": {
      "text/plain": [
       "<Axes: >"
      ]
     },
     "execution_count": 86,
     "metadata": {},
     "output_type": "execute_result"
    },
    {
     "data": {
      "image/png": "[encoded data removed]",
      "text/plain": [
       "<Figure size 640x480 with 1 Axes>"
      ]
     },
     "metadata": {},
     "output_type": "display_data"
    }
   ],
   "source": [
    "sns.lineplot(author_count.head(1000).values)"
   ]
  },
  {
   "cell_type": "code",
   "execution_count": 89,
   "metadata": {},
   "outputs": [
    {
     "data": {
      "text/plain": [
       "<Axes: xlabel='Book_Count', ylabel='Count'>"
      ]
     },
     "execution_count": 89,
     "metadata": {},
     "output_type": "execute_result"
    },
    {
     "data": {
      "image/png": "[encoded data removed]",
      "text/plain": [
       "<Figure size 640x480 with 1 Axes>"
      ]
     },
     "metadata": {},
     "output_type": "display_data"
    }
   ],
   "source": [
    "data = author_count.reset_index()\n",
    "data.columns = ['Author', 'Book_Count']\n",
    "sns.histplot(data['Book_Count'], bins=100, kde=False, log_scale=(True, True))"
   ]
  },
  {
   "cell_type": "markdown",
   "metadata": {},
   "source": [
    "Although the log-log visualization strongly suggests that this in fact is a power law distribution, we would probably need to double check with a more precise method than just a visualization. If we can confirm the power law dynamics, in the case of adding the number of contributions as a feature in, let's say, a ranker, we would need to compensate for this power law. "
   ]
  },
  {
   "cell_type": "markdown",
   "metadata": {},
   "source": [
    "## PublishedDate"
   ]
  },
  {
   "cell_type": "markdown",
   "metadata": {},
   "source": [
    "We notice non-standardized date formatting"
   ]
  },
  {
   "cell_type": "code",
   "execution_count": 94,
   "metadata": {},
   "outputs": [
    {
     "data": {
      "text/plain": [
       "209363           NaN\n",
       "123613          1954\n",
       "36084            NaN\n",
       "8797      1986-05-01\n",
       "81959     2014-09-09\n",
       "66469            NaN\n",
       "119076    1999-05-01\n",
       "121442          1993\n",
       "116311       2009-10\n",
       "69299     2008-01-18\n",
       "Name: publishedDate, dtype: object"
      ]
     },
     "execution_count": 94,
     "metadata": {},
     "output_type": "execute_result"
    }
   ],
   "source": [
    "books_data.publishedDate.sample(10)"
   ]
  },
  {
   "cell_type": "markdown",
   "metadata": {},
   "source": [
    "We can even see special characters"
   ]
  },
  {
   "cell_type": "code",
   "execution_count": 138,
   "metadata": {},
   "outputs": [
    {
     "data": {
      "text/plain": [
       "array(['2005*', '1991*', '1971*', '200?', '1992*', '2005*', '2001*',\n",
       "       '1994*', '1960*', '1981*', '196?', '2005*', '198?', '1880*',\n",
       "       '200?', '2020-08-17T23:42:12Z', '19??', '1925*', '1983*',\n",
       "       '2021-11-09T17:01:00Z', '19??', '1993*', '1900*', '1975*', '1940*',\n",
       "       '2021-11-05T11:09:00Z', '2016-10-12T00:00:00+02:00',\n",
       "       '2017-03-26T04:39:04Z', '193?', '2021-11-05T20:28:00Z', '2002*',\n",
       "       '1981*', '1995*', '1978*', '19??', '196?', '197?', '1970*',\n",
       "       '1994*', '19??', '196?', '200?', '19??', '1991*', '2012*', '19??',\n",
       "       '200?', '1984*', '1982*', '19??', '189?', '196?', '2005*',\n",
       "       '2022-06-28T00:00:00+02:00', '1973*', '20??',\n",
       "       '2022-06-22T22:59:00Z', '1944*', '2012-03-01T00:00:00+01:00',\n",
       "       '19??', '1995*', '16??', '2022-05-12T00:00:00Z', '2005*',\n",
       "       '2021-11-06T15:05:00Z', '1980*', '1966*', '189?', '1918*',\n",
       "       '2013-01-02T00:00:00+01:00', '1991*', '2020-07-21T18:13:34Z',\n",
       "       '193?', '19??', '198?', '1974*', '1980*', '1986*', '199?', '199?',\n",
       "       '198?', '194?', '2016-12-09T00:00:00+01:00', '1997*',\n",
       "       '2022-01-05T05:05:41Z', '1970*', '19??', '199?', '2000*', '1985*',\n",
       "       '194?', '198?', '1710*', '2022-05-09T22:59:00Z', '19??', '1984*',\n",
       "       '1994*', '17??', '1931*', '2020-12-15T21:45:06Z'], dtype=object)"
      ]
     },
     "execution_count": 138,
     "metadata": {},
     "output_type": "execute_result"
    }
   ],
   "source": [
    "books_data.publishedDate[books_data.publishedDate.str.contains(\"[^\\\\d-]\").fillna(False)].sample(100).values"
   ]
  },
  {
   "cell_type": "markdown",
   "metadata": {},
   "source": [
    "Fortunately, most of the dates can be inferred, even if some of them could be more challenging"
   ]
  },
  {
   "cell_type": "code",
   "execution_count": 146,
   "metadata": {},
   "outputs": [
    {
     "data": {
      "text/plain": [
       "'2003-10'"
      ]
     },
     "execution_count": 146,
     "metadata": {},
     "output_type": "execute_result"
    }
   ],
   "source": [
    "books_data.publishedDate[~books_data.publishedDate.str.contains(\"[^\\\\d-]\").fillna(False)].values[1552]"
   ]
  },
  {
   "cell_type": "code",
   "execution_count": 141,
   "metadata": {},
   "outputs": [
    {
     "ename": "OutOfBoundsDatetime",
     "evalue": "Out of bounds nanosecond timestamp: 1672, at position 1552",
     "output_type": "error",
     "traceback": [
      "\u001b[0;31m---------------------------------------------------------------------------\u001b[0m",
      "\u001b[0;31mOverflowError\u001b[0m                             Traceback (most recent call last)",
      "File \u001b[0;32m~/miniconda3/envs/book_recommender/lib/python3.8/site-packages/pandas/_libs/tslibs/conversion.pyx:245\u001b[0m, in \u001b[0;36mpandas._libs.tslibs.conversion._TSObject.ensure_reso\u001b[0;34m()\u001b[0m\n",
      "File \u001b[0;32m~/miniconda3/envs/book_recommender/lib/python3.8/site-packages/pandas/_libs/tslibs/np_datetime.pyx:614\u001b[0m, in \u001b[0;36mpandas._libs.tslibs.np_datetime.convert_reso\u001b[0;34m()\u001b[0m\n",
      "\u001b[0;31mOverflowError\u001b[0m: value too large",
      "\nThe above exception was the direct cause of the following exception:\n",
      "\u001b[0;31mOutOfBoundsDatetime\u001b[0m                       Traceback (most recent call last)",
      "Cell \u001b[0;32mIn[141], line 1\u001b[0m\n\u001b[0;32m----> 1\u001b[0m pd\u001b[39m.\u001b[39;49mto_datetime(\n\u001b[1;32m      2\u001b[0m     books_data\u001b[39m.\u001b[39;49mpublishedDate[\u001b[39m~\u001b[39;49mbooks_data\u001b[39m.\u001b[39;49mpublishedDate\u001b[39m.\u001b[39;49mstr\u001b[39m.\u001b[39;49mcontains(\u001b[39m\"\u001b[39;49m\u001b[39m[^\u001b[39;49m\u001b[39m\\\\\u001b[39;49;00m\u001b[39md-]\u001b[39;49m\u001b[39m\"\u001b[39;49m)\u001b[39m.\u001b[39;49mfillna(\u001b[39mFalse\u001b[39;49;00m)],\n\u001b[1;32m      3\u001b[0m     \u001b[39mformat\u001b[39;49m\u001b[39m=\u001b[39;49m\u001b[39m'\u001b[39;49m\u001b[39mmixed\u001b[39;49m\u001b[39m'\u001b[39;49m,\n\u001b[1;32m      4\u001b[0m )\n",
      "File \u001b[0;32m~/miniconda3/envs/book_recommender/lib/python3.8/site-packages/pandas/core/tools/datetimes.py:1046\u001b[0m, in \u001b[0;36mto_datetime\u001b[0;34m(arg, errors, dayfirst, yearfirst, utc, format, exact, unit, infer_datetime_format, origin, cache)\u001b[0m\n\u001b[1;32m   1044\u001b[0m             result \u001b[39m=\u001b[39m arg\u001b[39m.\u001b[39mtz_localize(\u001b[39m\"\u001b[39m\u001b[39mutc\u001b[39m\u001b[39m\"\u001b[39m)\n\u001b[1;32m   1045\u001b[0m \u001b[39melif\u001b[39;00m \u001b[39misinstance\u001b[39m(arg, ABCSeries):\n\u001b[0;32m-> 1046\u001b[0m     cache_array \u001b[39m=\u001b[39m _maybe_cache(arg, \u001b[39mformat\u001b[39;49m, cache, convert_listlike)\n\u001b[1;32m   1047\u001b[0m     \u001b[39mif\u001b[39;00m \u001b[39mnot\u001b[39;00m cache_array\u001b[39m.\u001b[39mempty:\n\u001b[1;32m   1048\u001b[0m         result \u001b[39m=\u001b[39m arg\u001b[39m.\u001b[39mmap(cache_array)\n",
      "File \u001b[0;32m~/miniconda3/envs/book_recommender/lib/python3.8/site-packages/pandas/core/tools/datetimes.py:250\u001b[0m, in \u001b[0;36m_maybe_cache\u001b[0;34m(arg, format, cache, convert_listlike)\u001b[0m\n\u001b[1;32m    248\u001b[0m unique_dates \u001b[39m=\u001b[39m unique(arg)\n\u001b[1;32m    249\u001b[0m \u001b[39mif\u001b[39;00m \u001b[39mlen\u001b[39m(unique_dates) \u001b[39m<\u001b[39m \u001b[39mlen\u001b[39m(arg):\n\u001b[0;32m--> 250\u001b[0m     cache_dates \u001b[39m=\u001b[39m convert_listlike(unique_dates, \u001b[39mformat\u001b[39;49m)\n\u001b[1;32m    251\u001b[0m     \u001b[39m# GH#45319\u001b[39;00m\n\u001b[1;32m    252\u001b[0m     \u001b[39mtry\u001b[39;00m:\n",
      "File \u001b[0;32m~/miniconda3/envs/book_recommender/lib/python3.8/site-packages/pandas/core/tools/datetimes.py:455\u001b[0m, in \u001b[0;36m_convert_listlike_datetimes\u001b[0;34m(arg, format, name, utc, unit, errors, dayfirst, yearfirst, exact)\u001b[0m\n\u001b[1;32m    452\u001b[0m \u001b[39mif\u001b[39;00m \u001b[39mformat\u001b[39m \u001b[39mis\u001b[39;00m \u001b[39mnot\u001b[39;00m \u001b[39mNone\u001b[39;00m \u001b[39mand\u001b[39;00m \u001b[39mformat\u001b[39m \u001b[39m!=\u001b[39m \u001b[39m\"\u001b[39m\u001b[39mmixed\u001b[39m\u001b[39m\"\u001b[39m:\n\u001b[1;32m    453\u001b[0m     \u001b[39mreturn\u001b[39;00m _array_strptime_with_fallback(arg, name, utc, \u001b[39mformat\u001b[39m, exact, errors)\n\u001b[0;32m--> 455\u001b[0m result, tz_parsed \u001b[39m=\u001b[39m objects_to_datetime64ns(\n\u001b[1;32m    456\u001b[0m     arg,\n\u001b[1;32m    457\u001b[0m     dayfirst\u001b[39m=\u001b[39;49mdayfirst,\n\u001b[1;32m    458\u001b[0m     yearfirst\u001b[39m=\u001b[39;49myearfirst,\n\u001b[1;32m    459\u001b[0m     utc\u001b[39m=\u001b[39;49mutc,\n\u001b[1;32m    460\u001b[0m     errors\u001b[39m=\u001b[39;49merrors,\n\u001b[1;32m    461\u001b[0m     allow_object\u001b[39m=\u001b[39;49m\u001b[39mTrue\u001b[39;49;00m,\n\u001b[1;32m    462\u001b[0m )\n\u001b[1;32m    464\u001b[0m \u001b[39mif\u001b[39;00m tz_parsed \u001b[39mis\u001b[39;00m \u001b[39mnot\u001b[39;00m \u001b[39mNone\u001b[39;00m:\n\u001b[1;32m    465\u001b[0m     \u001b[39m# We can take a shortcut since the datetime64 numpy array\u001b[39;00m\n\u001b[1;32m    466\u001b[0m     \u001b[39m# is in UTC\u001b[39;00m\n\u001b[1;32m    467\u001b[0m     dta \u001b[39m=\u001b[39m DatetimeArray(result, dtype\u001b[39m=\u001b[39mtz_to_dtype(tz_parsed))\n",
      "File \u001b[0;32m~/miniconda3/envs/book_recommender/lib/python3.8/site-packages/pandas/core/arrays/datetimes.py:2177\u001b[0m, in \u001b[0;36mobjects_to_datetime64ns\u001b[0;34m(data, dayfirst, yearfirst, utc, errors, allow_object)\u001b[0m\n\u001b[1;32m   2174\u001b[0m \u001b[39m# if str-dtype, convert\u001b[39;00m\n\u001b[1;32m   2175\u001b[0m data \u001b[39m=\u001b[39m np\u001b[39m.\u001b[39marray(data, copy\u001b[39m=\u001b[39m\u001b[39mFalse\u001b[39;00m, dtype\u001b[39m=\u001b[39mnp\u001b[39m.\u001b[39mobject_)\n\u001b[0;32m-> 2177\u001b[0m result, tz_parsed \u001b[39m=\u001b[39m tslib\u001b[39m.\u001b[39;49marray_to_datetime(\n\u001b[1;32m   2178\u001b[0m     data,\n\u001b[1;32m   2179\u001b[0m     errors\u001b[39m=\u001b[39;49merrors,\n\u001b[1;32m   2180\u001b[0m     utc\u001b[39m=\u001b[39;49mutc,\n\u001b[1;32m   2181\u001b[0m     dayfirst\u001b[39m=\u001b[39;49mdayfirst,\n\u001b[1;32m   2182\u001b[0m     yearfirst\u001b[39m=\u001b[39;49myearfirst,\n\u001b[1;32m   2183\u001b[0m )\n\u001b[1;32m   2185\u001b[0m \u001b[39mif\u001b[39;00m tz_parsed \u001b[39mis\u001b[39;00m \u001b[39mnot\u001b[39;00m \u001b[39mNone\u001b[39;00m:\n\u001b[1;32m   2186\u001b[0m     \u001b[39m# We can take a shortcut since the datetime64 numpy array\u001b[39;00m\n\u001b[1;32m   2187\u001b[0m     \u001b[39m#  is in UTC\u001b[39;00m\n\u001b[1;32m   2188\u001b[0m     \u001b[39m# Return i8 values to denote unix timestamps\u001b[39;00m\n\u001b[1;32m   2189\u001b[0m     \u001b[39mreturn\u001b[39;00m result\u001b[39m.\u001b[39mview(\u001b[39m\"\u001b[39m\u001b[39mi8\u001b[39m\u001b[39m\"\u001b[39m), tz_parsed\n",
      "File \u001b[0;32m~/miniconda3/envs/book_recommender/lib/python3.8/site-packages/pandas/_libs/tslib.pyx:402\u001b[0m, in \u001b[0;36mpandas._libs.tslib.array_to_datetime\u001b[0;34m()\u001b[0m\n",
      "File \u001b[0;32m~/miniconda3/envs/book_recommender/lib/python3.8/site-packages/pandas/_libs/tslib.pyx:551\u001b[0m, in \u001b[0;36mpandas._libs.tslib.array_to_datetime\u001b[0;34m()\u001b[0m\n",
      "File \u001b[0;32m~/miniconda3/envs/book_recommender/lib/python3.8/site-packages/pandas/_libs/tslib.pyx:519\u001b[0m, in \u001b[0;36mpandas._libs.tslib.array_to_datetime\u001b[0;34m()\u001b[0m\n",
      "File \u001b[0;32m~/miniconda3/envs/book_recommender/lib/python3.8/site-packages/pandas/_libs/tslibs/conversion.pyx:248\u001b[0m, in \u001b[0;36mpandas._libs.tslibs.conversion._TSObject.ensure_reso\u001b[0;34m()\u001b[0m\n",
      "\u001b[0;31mOutOfBoundsDatetime\u001b[0m: Out of bounds nanosecond timestamp: 1672, at position 1552"
     ]
    }
   ],
   "source": [
    "pd.to_datetime(\n",
    "    books_data.publishedDate[~books_data.publishedDate.str.contains(\"[^\\\\d-]\").fillna(False)],\n",
    "    format='mixed',\n",
    ")"
   ]
  },
  {
   "cell_type": "markdown",
   "metadata": {},
   "source": [
    "# Reviews Data"
   ]
  },
  {
   "cell_type": "code",
   "execution_count": 11,
   "metadata": {},
   "outputs": [],
   "source": [
    "reviews_data = pd.read_csv(\"../data/raw/Books_rating.csv\")"
   ]
  },
  {
   "cell_type": "code",
   "execution_count": 12,
   "metadata": {},
   "outputs": [
    {
     "name": "stdout",
     "output_type": "stream",
     "text": [
      "<class 'pandas.core.frame.DataFrame'>\n",
      "RangeIndex: 3000000 entries, 0 to 2999999\n",
      "Data columns (total 10 columns):\n",
      " #   Column              Non-Null Count    Dtype  \n",
      "---  ------              --------------    -----  \n",
      " 0   Id                  3000000 non-null  object \n",
      " 1   Title               2999792 non-null  object \n",
      " 2   Price               481171 non-null   float64\n",
      " 3   User_id             2438213 non-null  object \n",
      " 4   profileName         2438095 non-null  object \n",
      " 5   review/helpfulness  3000000 non-null  object \n",
      " 6   review/score        3000000 non-null  float64\n",
      " 7   review/time         3000000 non-null  int64  \n",
      " 8   review/summary      2999593 non-null  object \n",
      " 9   review/text         2999992 non-null  object \n",
      "dtypes: float64(2), int64(1), object(7)\n",
      "memory usage: 228.9+ MB\n"
     ]
    }
   ],
   "source": [
    "reviews_data.info(verbose=True, memory_usage=True, show_counts=True)"
   ]
  },
  {
   "cell_type": "code",
   "execution_count": 13,
   "metadata": {},
   "outputs": [
    {
     "data": {
      "text/html": [
       "<div>\n",
       "<style scoped>\n",
       "    .dataframe tbody tr th:only-of-type {\n",
       "        vertical-align: middle;\n",
       "    }\n",
       "\n",
       "    .dataframe tbody tr th {\n",
       "        vertical-align: top;\n",
       "    }\n",
       "\n",
       "    .dataframe thead th {\n",
       "        text-align: right;\n",
       "    }\n",
       "</style>\n",
       "<table border=\"1\" class=\"dataframe\">\n",
       "  <thead>\n",
       "    <tr style=\"text-align: right;\">\n",
       "      <th></th>\n",
       "      <th>Id</th>\n",
       "      <th>Title</th>\n",
       "      <th>Price</th>\n",
       "      <th>User_id</th>\n",
       "      <th>profileName</th>\n",
       "      <th>review/helpfulness</th>\n",
       "      <th>review/score</th>\n",
       "      <th>review/time</th>\n",
       "      <th>review/summary</th>\n",
       "      <th>review/text</th>\n",
       "    </tr>\n",
       "  </thead>\n",
       "  <tbody>\n",
       "    <tr>\n",
       "      <th>1068168</th>\n",
       "      <td>3190072558</td>\n",
       "      <td>Lehr- und bungsbuch der deutschen Grammatik: N...</td>\n",
       "      <td>NaN</td>\n",
       "      <td>A2IN6ICQFZOE02</td>\n",
       "      <td>XIE CHENGZHE</td>\n",
       "      <td>0/0</td>\n",
       "      <td>4.0</td>\n",
       "      <td>1357516800</td>\n",
       "      <td>fine used book</td>\n",
       "      <td>this book helps, the only thing is, as describ...</td>\n",
       "    </tr>\n",
       "    <tr>\n",
       "      <th>1516616</th>\n",
       "      <td>B00087H3L4</td>\n",
       "      <td>Five little Peppers and how they grew,</td>\n",
       "      <td>NaN</td>\n",
       "      <td>A2SH7OWE8QJYNC</td>\n",
       "      <td>Kaleidocherry</td>\n",
       "      <td>9/10</td>\n",
       "      <td>3.0</td>\n",
       "      <td>1206835200</td>\n",
       "      <td>Charming, but too fast-paced</td>\n",
       "      <td>You know, the Five Little Peppers are always g...</td>\n",
       "    </tr>\n",
       "    <tr>\n",
       "      <th>399650</th>\n",
       "      <td>1844560333</td>\n",
       "      <td>Pride and Prejudice</td>\n",
       "      <td>NaN</td>\n",
       "      <td>NaN</td>\n",
       "      <td>NaN</td>\n",
       "      <td>0/0</td>\n",
       "      <td>5.0</td>\n",
       "      <td>1010448000</td>\n",
       "      <td>Pride and Prejudice</td>\n",
       "      <td>Pride and Prejudice was a good book, I really ...</td>\n",
       "    </tr>\n",
       "  </tbody>\n",
       "</table>\n",
       "</div>"
      ],
      "text/plain": [
       "                 Id                                              Title  Price  \\\n",
       "1068168  3190072558  Lehr- und bungsbuch der deutschen Grammatik: N...    NaN   \n",
       "1516616  B00087H3L4             Five little Peppers and how they grew,    NaN   \n",
       "399650   1844560333                                Pride and Prejudice    NaN   \n",
       "\n",
       "                User_id    profileName review/helpfulness  review/score  \\\n",
       "1068168  A2IN6ICQFZOE02   XIE CHENGZHE                0/0           4.0   \n",
       "1516616  A2SH7OWE8QJYNC  Kaleidocherry               9/10           3.0   \n",
       "399650              NaN            NaN                0/0           5.0   \n",
       "\n",
       "         review/time                review/summary  \\\n",
       "1068168   1357516800                fine used book   \n",
       "1516616   1206835200  Charming, but too fast-paced   \n",
       "399650    1010448000           Pride and Prejudice   \n",
       "\n",
       "                                               review/text  \n",
       "1068168  this book helps, the only thing is, as describ...  \n",
       "1516616  You know, the Five Little Peppers are always g...  \n",
       "399650   Pride and Prejudice was a good book, I really ...  "
      ]
     },
     "execution_count": 13,
     "metadata": {},
     "output_type": "execute_result"
    }
   ],
   "source": [
    "reviews_data.sample(3)"
   ]
  }
 ],
 "metadata": {
  "kernelspec": {
   "display_name": "Python 3.8.17 ('book_recommender')",
   "language": "python",
   "name": "python3"
  },
  "language_info": {
   "codemirror_mode": {
    "name": "ipython",
    "version": 3
   },
   "file_extension": ".py",
   "mimetype": "text/x-python",
   "name": "python",
   "nbconvert_exporter": "python",
   "pygments_lexer": "ipython3",
   "version": "3.8.17"
  },
  "orig_nbformat": 4,
  "vscode": {
   "interpreter": {
    "hash": "98d862ff8fc58d25376058c3f52e24b7feee90c4848732fa1a0474216c84b788"
   }
  }
 },
 "nbformat": 4,
 "nbformat_minor": 2
}
