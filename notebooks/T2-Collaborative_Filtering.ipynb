{
 "cells": [
  {
   "cell_type": "code",
   "execution_count": 1,
   "metadata": {},
   "outputs": [],
   "source": [
    "import pandas as pd\n",
    "reviews_data = pd.read_csv(\"../data/raw/Books_rating.csv\")"
   ]
  },
  {
   "cell_type": "code",
   "execution_count": 10,
   "metadata": {},
   "outputs": [
    {
     "name": "stdout",
     "output_type": "stream",
     "text": [
      "The number of items M = 221998\n"
     ]
    }
   ],
   "source": [
    "M = reviews_data.Id.unique().shape[0]\n",
    "print(f\"The number of items M = {M}\")"
   ]
  },
  {
   "cell_type": "code",
   "execution_count": 9,
   "metadata": {},
   "outputs": [
    {
     "name": "stdout",
     "output_type": "stream",
     "text": [
      "The number of users N = 1008973\n"
     ]
    }
   ],
   "source": [
    "N = reviews_data.User_id.unique().shape[0]\n",
    "print(f\"The number of users N = {N}\")"
   ]
  },
  {
   "cell_type": "code",
   "execution_count": 13,
   "metadata": {},
   "outputs": [
    {
     "name": "stdout",
     "output_type": "stream",
     "text": [
      "The size of the sparse weight matrix is MxN, which contains 223989988054 cells\n"
     ]
    }
   ],
   "source": [
    "print(f\"The size of the sparse weight matrix is MxN, which contains {M * N} cells\")"
   ]
  },
  {
   "cell_type": "code",
   "execution_count": 30,
   "metadata": {},
   "outputs": [
    {
     "name": "stdout",
     "output_type": "stream",
     "text": [
      "The array will be approximately 208.61 GB\n"
     ]
    }
   ],
   "source": [
    "def calculate_array_size(data_type, num_items):\n",
    "    bytes_per_item = np.dtype(data_type).itemsize\n",
    "    total_bytes = bytes_per_item * num_items\n",
    "    total_gb = total_bytes / (1024**3)\n",
    "    return total_gb\n",
    "\n",
    "# Usage example\n",
    "data_type = np.int8\n",
    "num_items = M*N\n",
    "array_size_in_gb = calculate_array_size(data_type, num_items)\n",
    "\n",
    "print(f\"The array will be approximately {array_size_in_gb:.2f} GB\")"
   ]
  },
  {
   "cell_type": "markdown",
   "metadata": {},
   "source": [
    "We have a lot of items and users. We will need an efficient way of performing the calculations"
   ]
  },
  {
   "cell_type": "markdown",
   "metadata": {},
   "source": [
    "Possible Filters for a pair of i and i' users:\n",
    "- Threshold of common ratings: If two users have less than a certain amount of common reviewed items, they won't be considered.\n",
    "- Threshold of weights: If the absolute value of the weight for two users is less than a threshold, it won't be considered.\n",
    "- Theshold of neighbors: Only the top absolute value weights for a user will be considered.\n",
    "\n",
    "We still don't know the distributions of many of these variables, but we can get an upper bound using the threshold of neighbors"
   ]
  },
  {
   "cell_type": "code",
   "execution_count": 52,
   "metadata": {},
   "outputs": [
    {
     "data": {
      "text/html": [
       "<div>\n",
       "<style scoped>\n",
       "    .dataframe tbody tr th:only-of-type {\n",
       "        vertical-align: middle;\n",
       "    }\n",
       "\n",
       "    .dataframe tbody tr th {\n",
       "        vertical-align: top;\n",
       "    }\n",
       "\n",
       "    .dataframe thead th {\n",
       "        text-align: right;\n",
       "    }\n",
       "</style>\n",
       "<table border=\"1\" class=\"dataframe\">\n",
       "  <thead>\n",
       "    <tr style=\"text-align: right;\">\n",
       "      <th></th>\n",
       "      <th>neighbors</th>\n",
       "      <th>size (GB)</th>\n",
       "    </tr>\n",
       "  </thead>\n",
       "  <tbody>\n",
       "    <tr>\n",
       "      <th>0</th>\n",
       "      <td>1</td>\n",
       "      <td>0.000940</td>\n",
       "    </tr>\n",
       "    <tr>\n",
       "      <th>1</th>\n",
       "      <td>21</td>\n",
       "      <td>0.019733</td>\n",
       "    </tr>\n",
       "    <tr>\n",
       "      <th>2</th>\n",
       "      <td>41</td>\n",
       "      <td>0.038527</td>\n",
       "    </tr>\n",
       "    <tr>\n",
       "      <th>3</th>\n",
       "      <td>61</td>\n",
       "      <td>0.057320</td>\n",
       "    </tr>\n",
       "    <tr>\n",
       "      <th>4</th>\n",
       "      <td>81</td>\n",
       "      <td>0.076114</td>\n",
       "    </tr>\n",
       "    <tr>\n",
       "      <th>5</th>\n",
       "      <td>101</td>\n",
       "      <td>0.094908</td>\n",
       "    </tr>\n",
       "    <tr>\n",
       "      <th>6</th>\n",
       "      <td>121</td>\n",
       "      <td>0.113701</td>\n",
       "    </tr>\n",
       "    <tr>\n",
       "      <th>7</th>\n",
       "      <td>141</td>\n",
       "      <td>0.132495</td>\n",
       "    </tr>\n",
       "    <tr>\n",
       "      <th>8</th>\n",
       "      <td>161</td>\n",
       "      <td>0.151288</td>\n",
       "    </tr>\n",
       "    <tr>\n",
       "      <th>9</th>\n",
       "      <td>181</td>\n",
       "      <td>0.170082</td>\n",
       "    </tr>\n",
       "    <tr>\n",
       "      <th>10</th>\n",
       "      <td>201</td>\n",
       "      <td>0.188876</td>\n",
       "    </tr>\n",
       "    <tr>\n",
       "      <th>11</th>\n",
       "      <td>221</td>\n",
       "      <td>0.207669</td>\n",
       "    </tr>\n",
       "    <tr>\n",
       "      <th>12</th>\n",
       "      <td>241</td>\n",
       "      <td>0.226463</td>\n",
       "    </tr>\n",
       "    <tr>\n",
       "      <th>13</th>\n",
       "      <td>261</td>\n",
       "      <td>0.245256</td>\n",
       "    </tr>\n",
       "    <tr>\n",
       "      <th>14</th>\n",
       "      <td>281</td>\n",
       "      <td>0.264050</td>\n",
       "    </tr>\n",
       "    <tr>\n",
       "      <th>15</th>\n",
       "      <td>301</td>\n",
       "      <td>0.282843</td>\n",
       "    </tr>\n",
       "    <tr>\n",
       "      <th>16</th>\n",
       "      <td>321</td>\n",
       "      <td>0.301637</td>\n",
       "    </tr>\n",
       "    <tr>\n",
       "      <th>17</th>\n",
       "      <td>341</td>\n",
       "      <td>0.320431</td>\n",
       "    </tr>\n",
       "    <tr>\n",
       "      <th>18</th>\n",
       "      <td>361</td>\n",
       "      <td>0.339224</td>\n",
       "    </tr>\n",
       "    <tr>\n",
       "      <th>19</th>\n",
       "      <td>381</td>\n",
       "      <td>0.358018</td>\n",
       "    </tr>\n",
       "    <tr>\n",
       "      <th>20</th>\n",
       "      <td>401</td>\n",
       "      <td>0.376811</td>\n",
       "    </tr>\n",
       "    <tr>\n",
       "      <th>21</th>\n",
       "      <td>421</td>\n",
       "      <td>0.395605</td>\n",
       "    </tr>\n",
       "    <tr>\n",
       "      <th>22</th>\n",
       "      <td>441</td>\n",
       "      <td>0.414399</td>\n",
       "    </tr>\n",
       "    <tr>\n",
       "      <th>23</th>\n",
       "      <td>461</td>\n",
       "      <td>0.433192</td>\n",
       "    </tr>\n",
       "    <tr>\n",
       "      <th>24</th>\n",
       "      <td>481</td>\n",
       "      <td>0.451986</td>\n",
       "    </tr>\n",
       "    <tr>\n",
       "      <th>25</th>\n",
       "      <td>501</td>\n",
       "      <td>0.470779</td>\n",
       "    </tr>\n",
       "  </tbody>\n",
       "</table>\n",
       "</div>"
      ],
      "text/plain": [
       "    neighbors  size (GB)\n",
       "0           1   0.000940\n",
       "1          21   0.019733\n",
       "2          41   0.038527\n",
       "3          61   0.057320\n",
       "4          81   0.076114\n",
       "5         101   0.094908\n",
       "6         121   0.113701\n",
       "7         141   0.132495\n",
       "8         161   0.151288\n",
       "9         181   0.170082\n",
       "10        201   0.188876\n",
       "11        221   0.207669\n",
       "12        241   0.226463\n",
       "13        261   0.245256\n",
       "14        281   0.264050\n",
       "15        301   0.282843\n",
       "16        321   0.301637\n",
       "17        341   0.320431\n",
       "18        361   0.339224\n",
       "19        381   0.358018\n",
       "20        401   0.376811\n",
       "21        421   0.395605\n",
       "22        441   0.414399\n",
       "23        461   0.433192\n",
       "24        481   0.451986\n",
       "25        501   0.470779"
      ]
     },
     "execution_count": 52,
     "metadata": {},
     "output_type": "execute_result"
    }
   ],
   "source": [
    "pd.DataFrame(\n",
    "    [(n,calculate_array_size(data_type, N * n)) for n in range(1,520,20)],\n",
    "    columns=[\"neighbors\", \"size (GB)\"]\n",
    ")"
   ]
  },
  {
   "cell_type": "markdown",
   "metadata": {},
   "source": [
    "We can see that the use of this threshold already gives us a size that we can work on"
   ]
  },
  {
   "cell_type": "markdown",
   "metadata": {},
   "source": [
    "## Working with a sample"
   ]
  },
  {
   "cell_type": "markdown",
   "metadata": {},
   "source": [
    "In this section we will work with a sample of users with the highest count of reviews, to minimize the sparcity of the weight matrix."
   ]
  },
  {
   "cell_type": "code",
   "execution_count": 50,
   "metadata": {},
   "outputs": [],
   "source": [
    "top_active_users = reviews_data.User_id.value_counts().head(int(N/100)).index"
   ]
  },
  {
   "cell_type": "code",
   "execution_count": 51,
   "metadata": {},
   "outputs": [
    {
     "data": {
      "text/plain": [
       "Index(['A14OJS0VWMOSWO', 'AFVQZQ8PW0L', 'A1D2C0WDCSHUWZ', 'AHD101501WCN1',\n",
       "       'A1X8VZWTOG8IS6', 'A1K1JW1C5CUSUZ', 'A20EEWWSFMZ1PN', 'A1S3C5OFU508P3',\n",
       "       'A1N1YEMTI9DJ86', 'A2OJW07GQRNJUT',\n",
       "       ...\n",
       "       'A3C9GITUZ3V8GT', 'A325I3POKV8LR', 'A1IZ6OYX3ZP7RC', 'ARER05SO3BWWJ',\n",
       "       'A2O8K7L29RLY54', 'A32NR5QPDZSD5D', 'ABZF8NDWIRVT2', 'A8QMDH75AKI5B',\n",
       "       'A1631PDU0WGN4W', 'A2TCUQOY9M7SXC'],\n",
       "      dtype='object', name='User_id', length=10089)"
      ]
     },
     "execution_count": 51,
     "metadata": {},
     "output_type": "execute_result"
    }
   ],
   "source": [
    "top_active_users"
   ]
  }
 ],
 "metadata": {
  "kernelspec": {
   "display_name": "Python 3.8.17 ('book_recommender')",
   "language": "python",
   "name": "python3"
  },
  "language_info": {
   "codemirror_mode": {
    "name": "ipython",
    "version": 3
   },
   "file_extension": ".py",
   "mimetype": "text/x-python",
   "name": "python",
   "nbconvert_exporter": "python",
   "pygments_lexer": "ipython3",
   "version": "3.8.17"
  },
  "orig_nbformat": 4,
  "vscode": {
   "interpreter": {
    "hash": "98d862ff8fc58d25376058c3f52e24b7feee90c4848732fa1a0474216c84b788"
   }
  }
 },
 "nbformat": 4,
 "nbformat_minor": 2
}
